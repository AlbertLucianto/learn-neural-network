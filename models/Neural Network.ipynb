{
 "cells": [
  {
   "cell_type": "code",
   "execution_count": 48,
   "metadata": {},
   "outputs": [],
   "source": [
    "import numpy as np\n",
    "import time\n",
    "from matplotlib.pyplot import plot, grid, xlabel, ylabel, legend"
   ]
  },
  {
   "cell_type": "code",
   "execution_count": 37,
   "metadata": {},
   "outputs": [],
   "source": [
    "def sigmoid(z):\n",
    "    return 1 / (1 + np.exp(-z))\n",
    "\n",
    "class NeuralNetwork(object):\n",
    "    \n",
    "    def __init__(self):\n",
    "        self.inputLayerSize = 2\n",
    "        self.outputLayerSize = 1\n",
    "        self.hiddenLayerSize = 3\n",
    "        \n",
    "        # initialize with random matrix\n",
    "        self.W1 = np.random.rand(self.inputLayerSize, \\\n",
    "                                 self.hiddenLayerSize)\n",
    "        self.W2 = np.random.rand(self.hiddenLayerSize, \\\n",
    "                                 self.outputLayerSize)\n",
    "    \n",
    "    def forward(self, X):\n",
    "        self.z2 = np.dot(X, self.W1)\n",
    "        self.a2 = sigmoid(self.z2)\n",
    "        self.z3 = np.dot(self.a2, self.W2)\n",
    "        yHat = sigmoid(self.z3)\n",
    "        return yHat"
   ]
  },
  {
   "cell_type": "code",
   "execution_count": 163,
   "metadata": {},
   "outputs": [],
   "source": [
    "NN = NeuralNetwork()\n",
    "X = np.array([[3, 5],\n",
    "             [5, 1],\n",
    "             [10, 2]])\n",
    "y = np.array([[0.75], [0.82], [0.93]])"
   ]
  },
  {
   "cell_type": "code",
   "execution_count": 39,
   "metadata": {},
   "outputs": [
    {
     "name": "stdout",
     "output_type": "stream",
     "text": [
      "yHat:\n",
      " [[0.7778942 ]\n",
      " [0.76732504]\n",
      " [0.78580808]]\n",
      "y:\n",
      " [[0.75]\n",
      " [0.82]\n",
      " [0.93]]\n"
     ]
    }
   ],
   "source": [
    "print('yHat:\\n', NN.forward(x))\n",
    "print('y:\\n', y)"
   ]
  },
  {
   "cell_type": "code",
   "execution_count": 54,
   "metadata": {},
   "outputs": [
    {
     "name": "stdout",
     "output_type": "stream",
     "text": [
      "0.020811000000000135\n"
     ]
    }
   ],
   "source": [
    "weightsToTry = np.linspace(-3, 3, 1000)\n",
    "costs = np.zeros(1000)\n",
    "\n",
    "startTime = time.clock()\n",
    "for i in range(1000):\n",
    "    NN.W1[0, 0] = weightsToTry[i]\n",
    "    yHat = NN.forward(X)\n",
    "    costs[i] = 0.5 * sum((y - yHat) ** 2)\n",
    "\n",
    "endTime = time.clock()\n",
    "timeElapsed = endTime - startTime\n",
    "\n",
    "print(timeElapsed)"
   ]
  },
  {
   "cell_type": "code",
   "execution_count": 55,
   "metadata": {},
   "outputs": [
    {
     "data": {
      "text/plain": [
       "Text(0.5,0,'Weight')"
      ]
     },
     "execution_count": 55,
     "metadata": {},
     "output_type": "execute_result"
    },
    {
     "data": {
      "image/png": "[encoded data removed]",
      "text/plain": [
       "<matplotlib.figure.Figure at 0x109789358>"
      ]
     },
     "metadata": {},
     "output_type": "display_data"
    }
   ],
   "source": [
    "plot(weightsToTry, costs)\n",
    "grid(1)\n",
    "ylabel('Cost')\n",
    "xlabel('Weight')"
   ]
  },
  {
   "cell_type": "code",
   "execution_count": 142,
   "metadata": {},
   "outputs": [
    {
     "name": "stdout",
     "output_type": "stream",
     "text": [
      "[[0.83543525]\n",
      " [0.83609354]\n",
      " [0.83714631]]\n"
     ]
    },
    {
     "data": {
      "text/plain": [
       "array([85.13171711])"
      ]
     },
     "execution_count": 142,
     "metadata": {},
     "output_type": "execute_result"
    }
   ],
   "source": [
    "NN.W1[0, 0] = 5\n",
    "yHat = NN.forward(x)\n",
    "print(yHat)\n",
    "sum(0.5 * (y - yHat) ** 2)"
   ]
  },
  {
   "cell_type": "code",
   "execution_count": 57,
   "metadata": {},
   "outputs": [],
   "source": [
    "def sigmoidPrime(z):\n",
    "    # Derivative of sigmoid function\n",
    "    return np.exp(-z) / (1 + np.exp(-z) ** 2)"
   ]
  },
  {
   "cell_type": "code",
   "execution_count": 58,
   "metadata": {},
   "outputs": [
    {
     "data": {
      "text/plain": [
       "<matplotlib.legend.Legend at 0x109980898>"
      ]
     },
     "execution_count": 58,
     "metadata": {},
     "output_type": "execute_result"
    },
    {
     "data": {
      "image/png": "[encoded data removed]",
      "text/plain": [
       "<matplotlib.figure.Figure at 0x1097af6a0>"
      ]
     },
     "metadata": {},
     "output_type": "display_data"
    }
   ],
   "source": [
    "testValues = np.arange(-5, 5, 0.01)\n",
    "plot(testValues, sigmoid(testValues), linewidth=2)\n",
    "plot(testValues, sigmoidPrime(testValues), linewidth=2)\n",
    "grid(1)\n",
    "legend(['sigmoid', 'sigmoidPrime'])"
   ]
  },
  {
   "cell_type": "code",
   "execution_count": 143,
   "metadata": {},
   "outputs": [],
   "source": [
    "class NeuralNetwork_CostFunctionPrime(NeuralNetwork):\n",
    "\n",
    "    def costFunction(self, X, y):\n",
    "        return 0.5 * (y - self.forward(X)) ** 2\n",
    "\n",
    "    def costFunctionPrime(self, X, y):\n",
    "        self.yHat = self.forward(X)\n",
    "        \n",
    "        delta3 = np.multiply(-(y - self.yHat), sigmoidPrime(self.z3))\n",
    "        dJdW2 = np.dot(self.a2.T, delta3)\n",
    "        \n",
    "        delta2 = np.multiply(delta3, self.W2.T) * sigmoidPrime(self.z2)\n",
    "        dJdW1 = np.dot(X.T, delta2)\n",
    "        \n",
    "        return dJdW1, dJdW2"
   ]
  },
  {
   "cell_type": "code",
   "execution_count": 192,
   "metadata": {},
   "outputs": [],
   "source": [
    "NN = NeuralNetwork_CostFunctionPrime()"
   ]
  },
  {
   "cell_type": "code",
   "execution_count": 193,
   "metadata": {},
   "outputs": [
    {
     "name": "stdout",
     "output_type": "stream",
     "text": [
      "[[0.00748061]\n",
      " [0.00207132]\n",
      " [0.00053153]]\n"
     ]
    }
   ],
   "source": [
    "cost1 = NN.costFunction(X, y)\n",
    "print(cost1)"
   ]
  },
  {
   "cell_type": "code",
   "execution_count": 166,
   "metadata": {},
   "outputs": [],
   "source": [
    "dJdW1, dJdW2 = NN.costFunctionPrime(X, y)"
   ]
  },
  {
   "cell_type": "code",
   "execution_count": 167,
   "metadata": {},
   "outputs": [
    {
     "data": {
      "text/plain": [
       "array([[-5.82341366e-02, -9.52061713e-03,  2.00839182e-05],\n",
       "       [-1.63325567e-03,  9.22397750e-04,  1.62398354e-04]])"
      ]
     },
     "execution_count": 167,
     "metadata": {},
     "output_type": "execute_result"
    }
   ],
   "source": [
    "dJdW1"
   ]
  },
  {
   "cell_type": "code",
   "execution_count": 168,
   "metadata": {},
   "outputs": [
    {
     "data": {
      "text/plain": [
       "array([[-0.00143354],\n",
       "       [-0.00433903],\n",
       "       [-0.00563292]])"
      ]
     },
     "execution_count": 168,
     "metadata": {},
     "output_type": "execute_result"
    }
   ],
   "source": [
    "dJdW2"
   ]
  },
  {
   "cell_type": "code",
   "execution_count": 187,
   "metadata": {},
   "outputs": [
    {
     "name": "stdout",
     "output_type": "stream",
     "text": [
      "[[1.88751850e-03]\n",
      " [6.37706085e-03]\n",
      " [7.01247058e-05]]\n"
     ]
    }
   ],
   "source": [
    "scalar = 0.5\n",
    "\n",
    "NN.W1 = NN.W1 + scalar * dJdW1\n",
    "NN.W2 = NN.W2 + scalar * dJdW2\n",
    "cost2 = NN.costFunction(X, y)\n",
    "\n",
    "print(cost2)"
   ]
  },
  {
   "cell_type": "code",
   "execution_count": 183,
   "metadata": {},
   "outputs": [
    {
     "name": "stdout",
     "output_type": "stream",
     "text": [
      "[[0.01146122]\n",
      " [0.00313048]\n",
      " [0.0003549 ]]\n"
     ]
    }
   ],
   "source": [
    "NN.W1 = NN.W1 - scalar * dJdW1\n",
    "NN.W2 = NN.W2 - scalar * dJdW2\n",
    "cost3 = NN.costFunction(X, y)\n",
    "\n",
    "print(cost3)"
   ]
  },
  {
   "cell_type": "code",
   "execution_count": 194,
   "metadata": {},
   "outputs": [
    {
     "name": "stdout",
     "output_type": "stream",
     "text": [
      "At scaled by 10000000\n",
      "cost at iteration 0:\n",
      " [[70200.66062153]\n",
      " [18757.04343743]\n",
      " [ 6263.23474233]]\n",
      "cost at iteration 100:\n",
      " [[  256.94272341]\n",
      " [ 5494.08815966]\n",
      " [14318.20920943]]\n",
      "cost at iteration 200:\n",
      " [[3.89195386e-01]\n",
      " [7.73456245e+03]\n",
      " [1.09568536e+04]]\n",
      "cost at iteration 300:\n",
      " [[2.91114232e+00]\n",
      " [8.25007643e+03]\n",
      " [1.02506367e+04]]\n",
      "cost at iteration 400:\n",
      " [[4.31343556e+00]\n",
      " [8.34086997e+03]\n",
      " [9.98828811e+03]]\n",
      "cost at iteration 500:\n",
      " [[4.19632832e+00]\n",
      " [8.27937700e+03]\n",
      " [9.84625378e+03]]\n",
      "cost at iteration 600:\n",
      " [[3.65741556e+00]\n",
      " [8.15441693e+03]\n",
      " [9.74452922e+03]]\n",
      "cost at iteration 700:\n",
      " [[3.07728671e+00]\n",
      " [8.00213038e+03]\n",
      " [9.65438052e+03]]\n",
      "cost at iteration 800:\n",
      " [[2.57469255e+00]\n",
      " [7.83750300e+03]\n",
      " [9.56354080e+03]]\n",
      "cost at iteration 900:\n",
      " [[2.17513064e+00]\n",
      " [7.66589741e+03]\n",
      " [9.46588040e+03]]\n"
     ]
    }
   ],
   "source": [
    "learning_rate = 1\n",
    "scale = 10000000\n",
    "num_iterations = 1000\n",
    "\n",
    "print('At scaled by {}'.format(scale))\n",
    "\n",
    "for i in range(num_iterations):\n",
    "    \n",
    "    dJdW1, dJdW2 = NN.costFunctionPrime(X, y)\n",
    "    NN.W1 = NN.W1 - scalar * dJdW1\n",
    "    NN.W2 = NN.W2 - scalar * dJdW2\n",
    "    \n",
    "    if i % 100 == 0:\n",
    "        print('cost at iteration {}:\\n'.format(i), NN.costFunction(X, y) * scale)\n"
   ]
  },
  {
   "cell_type": "code",
   "execution_count": null,
   "metadata": {},
   "outputs": [],
   "source": []
  }
 ],
 "metadata": {
  "kernelspec": {
   "display_name": "Python 3",
   "language": "python",
   "name": "python3"
  },
  "language_info": {
   "codemirror_mode": {
    "name": "ipython",
    "version": 3
   },
   "file_extension": ".py",
   "mimetype": "text/x-python",
   "name": "python",
   "nbconvert_exporter": "python",
   "pygments_lexer": "ipython3",
   "version": "3.6.4"
  }
 },
 "nbformat": 4,
 "nbformat_minor": 2
}
